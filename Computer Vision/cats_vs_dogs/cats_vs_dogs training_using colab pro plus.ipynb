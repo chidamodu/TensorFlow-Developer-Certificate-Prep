{
 "cells": [
  {
   "cell_type": "code",
   "execution_count": 5,
   "metadata": {
    "id": "xLD7aIqY7ths"
   },
   "outputs": [],
   "source": [
    "\n",
    "import os\n",
    "import numpy as np\n",
    "import tensorflow as tf\n",
    "from tensorflow import keras\n",
    "from sklearn.model_selection import KFold\n",
    "from sklearn.metrics import multilabel_confusion_matrix\n",
    "from shutil import copyfile\n",
    "import zipfile\n",
    "import random\n",
    "import shutil\n",
    "from tensorflow.keras.preprocessing.image import ImageDataGenerator\n",
    "import keras_tuner as kt\n",
    "import matplotlib.pyplot as plt\n",
    "%matplotlib inline\n",
    "\n"
   ]
  },
  {
   "cell_type": "code",
   "execution_count": 4,
   "metadata": {
    "colab": {
     "base_uri": "https://localhost:8080/"
    },
    "id": "yTJEnHru_NOg",
    "outputId": "9d158d53-4789-4c18-c6ed-2d89f7c69713"
   },
   "outputs": [
    {
     "output_type": "stream",
     "name": "stdout",
     "text": [
      "Collecting keras_tuner\n",
      "  Downloading keras_tuner-1.4.7-py3-none-any.whl (129 kB)\n",
      "\u001B[?25l     \u001B[90m━━━━━━━━━━━━━━━━━━━━━━━━━━━━━━━━━━━━━━━━\u001B[0m \u001B[32m0.0/129.1 kB\u001B[0m \u001B[31m?\u001B[0m eta \u001B[36m-:--:--\u001B[0m\r\u001B[2K     \u001B[90m━━━━━━━━━━━━━━━━━━━━━━━━━━━━━━━━━━━━━━━━\u001B[0m \u001B[32m129.1/129.1 kB\u001B[0m \u001B[31m4.0 MB/s\u001B[0m eta \u001B[36m0:00:00\u001B[0m\n",
      "\u001B[?25hRequirement already satisfied: keras in /usr/local/lib/python3.10/dist-packages (from keras_tuner) (2.15.0)\n",
      "Requirement already satisfied: packaging in /usr/local/lib/python3.10/dist-packages (from keras_tuner) (24.0)\n",
      "Requirement already satisfied: requests in /usr/local/lib/python3.10/dist-packages (from keras_tuner) (2.31.0)\n",
      "Collecting kt-legacy (from keras_tuner)\n",
      "  Downloading kt_legacy-1.0.5-py3-none-any.whl (9.6 kB)\n",
      "Requirement already satisfied: charset-normalizer<4,>=2 in /usr/local/lib/python3.10/dist-packages (from requests->keras_tuner) (3.3.2)\n",
      "Requirement already satisfied: idna<4,>=2.5 in /usr/local/lib/python3.10/dist-packages (from requests->keras_tuner) (3.7)\n",
      "Requirement already satisfied: urllib3<3,>=1.21.1 in /usr/local/lib/python3.10/dist-packages (from requests->keras_tuner) (2.0.7)\n",
      "Requirement already satisfied: certifi>=2017.4.17 in /usr/local/lib/python3.10/dist-packages (from requests->keras_tuner) (2024.2.2)\n",
      "Installing collected packages: kt-legacy, keras_tuner\n",
      "Successfully installed keras_tuner-1.4.7 kt-legacy-1.0.5\n"
     ]
    }
   ],
   "source": [
    "!pip3 install keras_tuner"
   ]
  },
  {
   "cell_type": "code",
   "execution_count": 7,
   "metadata": {
    "colab": {
     "base_uri": "https://localhost:8080/",
     "height": 35
    },
    "id": "mx0sFSdc9R1Y",
    "outputId": "a3c3d975-cfc2-4f2f-d62a-003aa69a117b"
   },
   "outputs": [
    {
     "output_type": "execute_result",
     "data": {
      "text/plain": [
       "'/content'"
      ],
      "application/vnd.google.colaboratory.intrinsic+json": {
       "type": "string"
      }
     },
     "metadata": {},
     "execution_count": 7
    }
   ],
   "source": [
    "os.getcwd()"
   ]
  },
  {
   "cell_type": "code",
   "execution_count": 6,
   "metadata": {
    "colab": {
     "base_uri": "https://localhost:8080/"
    },
    "id": "mRVHoofE_qG8",
    "outputId": "ffa64c7a-e97b-4f25-c566-e243086e6c42"
   },
   "outputs": [
    {
     "output_type": "stream",
     "name": "stdout",
     "text": [
      "Available physical devices: [PhysicalDevice(name='/physical_device:CPU:0', device_type='CPU'), PhysicalDevice(name='/physical_device:GPU:0', device_type='GPU')]\n",
      "GPU is available: [PhysicalDevice(name='/physical_device:GPU:0', device_type='GPU')]\n"
     ]
    }
   ],
   "source": [
    "# List all available physical devices\n",
    "physical_devices = tf.config.list_physical_devices()\n",
    "print(\"Available physical devices:\", physical_devices)\n",
    "\n",
    "# Specifically check for GPU availability\n",
    "gpus = tf.config.list_physical_devices('GPU')\n",
    "if len(gpus) > 0:\n",
    "    print(f\"GPU is available: {gpus}\")\n",
    "else:\n",
    "    print(\"GPU is not available.\")"
   ]
  },
  {
   "cell_type": "code",
   "execution_count": 9,
   "metadata": {
    "colab": {
     "base_uri": "https://localhost:8080/"
    },
    "id": "N_khnLuC_UgT",
    "outputId": "6a89df94-a56d-4a40-c450-9663a884e670"
   },
   "outputs": [
    {
     "output_type": "stream",
     "name": "stdout",
     "text": [
      "2.15.0\n"
     ]
    }
   ],
   "source": [
    "import tensorflow as tf\n",
    "print(tf.__version__)"
   ]
  },
  {
   "cell_type": "code",
   "execution_count": 7,
   "metadata": {
    "colab": {
     "base_uri": "https://localhost:8080/"
    },
    "id": "h19s0h3B_Ujn",
    "outputId": "deb472fb-18bd-4161-8e8b-b96e0c376a62"
   },
   "outputs": [
    {
     "output_type": "stream",
     "name": "stdout",
     "text": [
      "--2024-04-29 21:11:30--  https://download.microsoft.com/download/3/E/1/3E1C3F21-ECDB-4869-8368-6DEBA77B919F/kagglecatsanddogs_5340.zip\n",
      "Resolving download.microsoft.com (download.microsoft.com)... 23.61.210.15, 2600:1406:3c:3a4::317f, 2600:1406:3c:393::317f\n",
      "Connecting to download.microsoft.com (download.microsoft.com)|23.61.210.15|:443... connected.\n",
      "HTTP request sent, awaiting response... 200 OK\n",
      "Length: 824887076 (787M) [application/octet-stream]\n",
      "Saving to: ‘/content/tf_certify_prep/cats_vs_dogs/cats_dogs.zip’\n",
      "\n",
      "/content/tf_certify 100%[===================>] 786.67M   212MB/s    in 3.7s    \n",
      "\n",
      "2024-04-29 21:11:34 (212 MB/s) - ‘/content/tf_certify_prep/cats_vs_dogs/cats_dogs.zip’ saved [824887076/824887076]\n",
      "\n"
     ]
    }
   ],
   "source": [
    "\n",
    "!wget --no-check-certificate \\\n",
    "    \"https://download.microsoft.com/download/3/E/1/3E1C3F21-ECDB-4869-8368-6DEBA77B919F/kagglecatsanddogs_5340.zip\" \\\n",
    "    -O \"/content/tf_certify_prep/cats_vs_dogs/cats_dogs.zip\"\n",
    "\n"
   ]
  },
  {
   "cell_type": "code",
   "execution_count": 8,
   "metadata": {
    "id": "ZeSle-Tt-_nO"
   },
   "outputs": [],
   "source": [
    "local_zip = '/content/tf_certify_prep/cats_vs_dogs/cats_dogs.zip'\n",
    "zip_ref   = zipfile.ZipFile(local_zip, 'r')\n",
    "zip_ref.extractall('/content/tf_certify_prep/cats_vs_dogs')\n",
    "zip_ref.close()\n"
   ]
  },
  {
   "cell_type": "code",
   "execution_count": 9,
   "metadata": {
    "colab": {
     "base_uri": "https://localhost:8080/"
    },
    "id": "vafSy013-_qb",
    "outputId": "670d244f-26be-4c48-80c8-6d78bbc193f0"
   },
   "outputs": [
    {
     "output_type": "stream",
     "name": "stdout",
     "text": [
      "find: ‘/tmp/PetImages/’: No such file or directory\n",
      "There are 12501 images of dogs.\n",
      "There are 12501 images of cats.\n"
     ]
    }
   ],
   "source": [
    "source_path = '/content/tf_certify_prep/cats_vs_dogs/PetImages'\n",
    "\n",
    "source_path_dogs = os.path.join(source_path, 'Dog')\n",
    "source_path_cats = os.path.join(source_path, 'Cat')\n",
    "\n",
    "# Deletes all non-image files (there are two .db files bundled into the dataset)\n",
    "!find /tmp/PetImages/ -type f ! -name \"*.jpg\" -exec rm {} +\n",
    "\n",
    "# os.listdir returns a list containing all files under the given path\n",
    "print(f\"There are {len(os.listdir(source_path_dogs))} images of dogs.\")\n",
    "print(f\"There are {len(os.listdir(source_path_cats))} images of cats.\")"
   ]
  },
  {
   "cell_type": "code",
   "execution_count": 10,
   "metadata": {
    "id": "e4IpiQrNEnZR"
   },
   "outputs": [],
   "source": [
    "root_dir = '/content/tf_certify_prep/cats_vs_dogs/train_valid_split'\n",
    "\n",
    "# Empty directory to prevent FileExistsError is the function is run several times\n",
    "if os.path.exists(root_dir):\n",
    "  shutil.rmtree(root_dir)\n",
    "\n",
    "# GRADED FUNCTION: create_train_val_dirs\n",
    "def create_train_val_dirs(root_path):\n",
    "    os.makedirs(os.path.join(root_path, 'training'))\n",
    "    os.makedirs(os.path.join(f'{root_path}/training', 'dogs'))\n",
    "    os.makedirs(os.path.join(f'{root_path}/training', 'cats'))\n",
    "    os.makedirs(os.path.join(root_path, 'testing'))\n",
    "    os.makedirs(os.path.join(f'{root_path}/testing', 'dogs'))\n",
    "    os.makedirs(os.path.join(f'{root_path}/testing', 'cats'))\n",
    "\n",
    "try:\n",
    "  create_train_val_dirs(root_path=root_dir)\n",
    "except FileExistsError:\n",
    "  print(\"You should not be seeing this since the upper directory is removed beforehand\")"
   ]
  },
  {
   "cell_type": "code",
   "execution_count": 11,
   "metadata": {
    "colab": {
     "base_uri": "https://localhost:8080/"
    },
    "id": "-7Nijx8FEnc1",
    "outputId": "ec75aa6a-f4da-4f0e-8b18-e9cdd5d19c31"
   },
   "outputs": [
    {
     "output_type": "stream",
     "name": "stdout",
     "text": [
      "/content/tf_certify_prep/cats_vs_dogs/train_valid_split/testing\n",
      "/content/tf_certify_prep/cats_vs_dogs/train_valid_split/training\n",
      "/content/tf_certify_prep/cats_vs_dogs/train_valid_split/testing/cats\n",
      "/content/tf_certify_prep/cats_vs_dogs/train_valid_split/testing/dogs\n",
      "/content/tf_certify_prep/cats_vs_dogs/train_valid_split/training/cats\n",
      "/content/tf_certify_prep/cats_vs_dogs/train_valid_split/training/dogs\n"
     ]
    }
   ],
   "source": [
    "\n",
    "for rootdir, dirs, files in os.walk(root_dir):\n",
    "    for subdir in dirs:\n",
    "        print(os.path.join(rootdir, subdir))\n"
   ]
  },
  {
   "cell_type": "code",
   "execution_count": 12,
   "metadata": {
    "id": "1jgWQZiNEngg"
   },
   "outputs": [],
   "source": [
    "def split_data(SOURCE, TRAINING, TESTING, SPLIT_SIZE):\n",
    "\n",
    "  # Shuffle list\n",
    "  shuffled_source = random.sample(os.listdir(SOURCE), len(os.listdir(SOURCE)))\n",
    "\n",
    "  # Find total number of files in training dir\n",
    "  training_number = int(len(shuffled_source) * SPLIT_SIZE)\n",
    "  i = 0\n",
    "  target = TRAINING\n",
    "\n",
    "  for item in shuffled_source:\n",
    "    item_source = os.path.join(SOURCE, item)\n",
    "    if os.path.getsize(item_source) == 0:\n",
    "      print(f'{item} is zero length, so ignoring.')\n",
    "    else:\n",
    "      copyfile(item_source, os.path.join(target, item))\n",
    "      i += 1\n",
    "\n",
    "    # Switch copy target to TESTING\n",
    "    if i == training_number:\n",
    "      target = TESTING\n"
   ]
  },
  {
   "cell_type": "code",
   "execution_count": 14,
   "metadata": {
    "colab": {
     "base_uri": "https://localhost:8080/"
    },
    "id": "PKRZ4aG7GZZL",
    "outputId": "309ca9b7-f915-4ecd-8a72-471b9c46bbd2"
   },
   "outputs": [
    {
     "output_type": "stream",
     "name": "stdout",
     "text": [
      "666.jpg is zero length, so ignoring.\n",
      "11702.jpg is zero length, so ignoring.\n",
      "\n",
      "\n",
      "There are 11250 images of cats for training\n",
      "There are 11250 images of dogs for training\n",
      "There are 1250 images of cats for testing\n",
      "There are 1250 images of dogs for testing\n"
     ]
    }
   ],
   "source": [
    "\n",
    "# Define paths\n",
    "CAT_SOURCE_DIR = \"/content/tf_certify_prep/cats_vs_dogs/PetImages/Cat/\"\n",
    "DOG_SOURCE_DIR = '/content/tf_certify_prep/cats_vs_dogs/PetImages/Dog/'\n",
    "\n",
    "TRAINING_DIR = '/content/tf_certify_prep/cats_vs_dogs/train_valid_split/training/'\n",
    "TESTING_DIR = '/content/tf_certify_prep/cats_vs_dogs/train_valid_split/testing/'\n",
    "\n",
    "TRAINING_CATS_DIR = os.path.join(TRAINING_DIR, \"cats/\")\n",
    "TESTING_CATS_DIR = os.path.join(TESTING_DIR, \"cats/\")\n",
    "\n",
    "TRAINING_DOGS_DIR = os.path.join(TRAINING_DIR, \"dogs/\")\n",
    "TESTING_DOGS_DIR = os.path.join(TESTING_DIR, \"dogs/\")\n",
    "\n",
    "# Empty directories in case you run this cell multiple times\n",
    "if len(os.listdir(TRAINING_CATS_DIR)) > 0:\n",
    "  for file in os.scandir(TRAINING_CATS_DIR):\n",
    "    os.remove(file.path)\n",
    "if len(os.listdir(TRAINING_DOGS_DIR)) > 0:\n",
    "  for file in os.scandir(TRAINING_DOGS_DIR):\n",
    "    os.remove(file.path)\n",
    "if len(os.listdir(TESTING_CATS_DIR)) > 0:\n",
    "  for file in os.scandir(TESTING_CATS_DIR):\n",
    "    os.remove(file.path)\n",
    "if len(os.listdir(TESTING_DOGS_DIR)) > 0:\n",
    "  for file in os.scandir(TESTING_DOGS_DIR):\n",
    "    os.remove(file.path)\n",
    "\n",
    "# Define proportion of images used for training\n",
    "split_size = .9\n",
    "\n",
    "# Run the function\n",
    "# NOTE: Messages about zero length images should be printed out\n",
    "split_data(CAT_SOURCE_DIR, TRAINING_CATS_DIR, TESTING_CATS_DIR, split_size)\n",
    "split_data(DOG_SOURCE_DIR, TRAINING_DOGS_DIR, TESTING_DOGS_DIR, split_size)\n",
    "\n",
    "# Check that the number of images matches the expected output\n",
    "print(f\"\\n\\nThere are {len(os.listdir(TRAINING_CATS_DIR))} images of cats for training\")\n",
    "print(f\"There are {len(os.listdir(TRAINING_DOGS_DIR))} images of dogs for training\")\n",
    "print(f\"There are {len(os.listdir(TESTING_CATS_DIR))} images of cats for testing\")\n",
    "print(f\"There are {len(os.listdir(TESTING_DOGS_DIR))} images of dogs for testing\")\n"
   ]
  },
  {
   "cell_type": "code",
   "execution_count": 17,
   "metadata": {
    "id": "JdfG81r_GZjE"
   },
   "outputs": [],
   "source": [
    "del history, model_training, train_val_generators, model_build"
   ]
  },
  {
   "metadata": {
    "ExecuteTime": {
     "end_time": "2024-05-21T17:13:57.327724Z",
     "start_time": "2024-05-21T17:13:57.321653Z"
    }
   },
   "cell_type": "code",
   "source": "11250/45",
   "outputs": [
    {
     "data": {
      "text/plain": [
       "250.0"
      ]
     },
     "execution_count": 1,
     "metadata": {},
     "output_type": "execute_result"
    }
   ],
   "execution_count": 1
  },
  {
   "metadata": {
    "ExecuteTime": {
     "end_time": "2024-05-21T17:14:03.256689Z",
     "start_time": "2024-05-21T17:14:03.254259Z"
    }
   },
   "cell_type": "code",
   "source": "1250/5",
   "outputs": [
    {
     "data": {
      "text/plain": [
       "250.0"
      ]
     },
     "execution_count": 2,
     "metadata": {},
     "output_type": "execute_result"
    }
   ],
   "execution_count": 2
  },
  {
   "cell_type": "code",
   "execution_count": 18,
   "metadata": {
    "id": "7emaFikV9L0S"
   },
   "outputs": [],
   "source": [
    "def train_val_generators(TRAINING_DIR, TESTING_DIR):\n",
    "    train_datagen = ImageDataGenerator(rescale=1./255,\n",
    "                                       rotation_range = 40,\n",
    "                                     width_shift_range = 0.2,\n",
    "                                     height_shift_range = 0.2,\n",
    "                                     shear_range = 0.2,\n",
    "                                     zoom_range = 0.2,\n",
    "                                     horizontal_flip = True,\n",
    "                                     fill_mode='nearest')\n",
    "\n",
    "\n",
    "    train_generator = train_datagen.flow_from_directory(directory=TRAINING_DIR,\n",
    "                                                        batch_size=45, class_mode='binary', target_size=(150, 150))\n",
    "    # save_to_dir=/tmp/img-data-gen-outputs\n",
    "\n",
    "    validation_datagen = ImageDataGenerator(rescale=1./255)\n",
    "\n",
    "    validation_generator = validation_datagen.flow_from_directory(directory=TESTING_DIR,\n",
    "                                                                  batch_size=5, class_mode='binary', target_size=(150, 150))\n",
    "\n",
    "    return train_generator, validation_generator\n",
    "\n",
    "def model_build():\n",
    "    # Define the model\n",
    "    model = tf.keras.models.Sequential([\n",
    "        tf.keras.layers.Conv2D(16, (3, 3), activation='relu', input_shape=(150, 150, 3)),\n",
    "        tf.keras.layers.MaxPooling2D(2, 2),\n",
    "        tf.keras.layers.Conv2D(32, (3, 3), activation='relu'),\n",
    "        tf.keras.layers.MaxPooling2D(2, 2),\n",
    "        tf.keras.layers.Conv2D(64, (3, 3), activation='relu'),\n",
    "        tf.keras.layers.MaxPooling2D(2, 2),\n",
    "        # tf.keras.layers.Conv2D(128, (3, 3), activation='relu'),\n",
    "        # tf.keras.layers.MaxPooling2D(2, 2),\n",
    "        # tf.keras.layers.Dropout(0.2),\n",
    "        # tf.keras.layers.Conv2D(64, (3, 3), activation='relu'),\n",
    "        # tf.keras.layers.MaxPooling2D(2, 2),\n",
    "        # tf.keras.layers.Dropout(0.1),\n",
    "        tf.keras.layers.Flatten(),\n",
    "        tf.keras.layers.Dense(512, activation='relu'),\n",
    "        tf.keras.layers.Dense(1, activation='sigmoid')\n",
    "    ])\n",
    "    # Compile the model\n",
    "    model.compile(optimizer=tf.keras.optimizers.RMSprop(learning_rate=0.0001),\n",
    "                  loss='binary_crossentropy',\n",
    "                  metrics=['accuracy'])\n",
    "\n",
    "    return model\n",
    "\n",
    "class myCallback(tf.keras.callbacks.Callback):\n",
    "    def on_epoch_end(self, epoch, logs={}):\n",
    "        if(logs.get('accuracy') > 0.95):\n",
    "            print(\"\\nReached 95% accuracy so cancelling training!\")\n",
    "            self.model.stop_training = True\n",
    "\n",
    "#How to set up a CV loop for a computer vision problem?\n",
    "\n",
    "def model_training(EPOCHS, model_checkpoint_path):\n",
    "    import datetime\n",
    "    start_time = datetime.datetime.now()\n",
    "    train_generator, validation_generator = train_val_generators(TRAINING_DIR, TESTING_DIR)\n",
    "    callbacks = myCallback()\n",
    "    model = model_build()\n",
    "    # early_stopping = tf.keras.callbacks.EarlyStopping(monitor='loss',\n",
    "    #                                             patience=patience,\n",
    "    #                                             mode='min')\n",
    "    model_checkpoint = tf.keras.callbacks.ModelCheckpoint(model_checkpoint_path, monitor='loss', mode='min', save_best_only=True)\n",
    "    history = model.fit(train_generator, epochs=EPOCHS, validation_data=validation_generator, verbose=1, callbacks=[callbacks, model_checkpoint])\n",
    "    end_time = datetime.datetime.now()\n",
    "    print(\"Training time: \", end_time - start_time)\n",
    "    return history"
   ]
  },
  {
   "cell_type": "code",
   "execution_count": 19,
   "metadata": {
    "colab": {
     "base_uri": "https://localhost:8080/"
    },
    "id": "TdlQ0V7o9L3W",
    "outputId": "1d579ad2-3597-449b-e215-f3d12743dd2b"
   },
   "outputs": [
    {
     "output_type": "stream",
     "name": "stdout",
     "text": [
      "Found 22499 images belonging to 2 classes.\n",
      "Found 2499 images belonging to 2 classes.\n",
      "Epoch 1/15\n",
      "500/500 [==============================] - 139s 276ms/step - loss: 0.6512 - accuracy: 0.6119 - val_loss: 0.5744 - val_accuracy: 0.7015\n",
      "Epoch 2/15\n",
      "500/500 [==============================] - 138s 276ms/step - loss: 0.5931 - accuracy: 0.6788 - val_loss: 0.5481 - val_accuracy: 0.7179\n",
      "Epoch 3/15\n",
      "500/500 [==============================] - 138s 276ms/step - loss: 0.5581 - accuracy: 0.7132 - val_loss: 0.5060 - val_accuracy: 0.7467\n",
      "Epoch 4/15\n",
      "500/500 [==============================] - 138s 276ms/step - loss: 0.5334 - accuracy: 0.7311 - val_loss: 0.4882 - val_accuracy: 0.7671\n",
      "Epoch 5/15\n",
      "500/500 [==============================] - 138s 276ms/step - loss: 0.5151 - accuracy: 0.7458 - val_loss: 0.4503 - val_accuracy: 0.7851\n",
      "Epoch 6/15\n",
      "500/500 [==============================] - 137s 274ms/step - loss: 0.4976 - accuracy: 0.7589 - val_loss: 0.4082 - val_accuracy: 0.8099\n",
      "Epoch 7/15\n",
      "500/500 [==============================] - 138s 276ms/step - loss: 0.4847 - accuracy: 0.7675 - val_loss: 0.3905 - val_accuracy: 0.8247\n",
      "Epoch 8/15\n",
      "500/500 [==============================] - 138s 276ms/step - loss: 0.4666 - accuracy: 0.7796 - val_loss: 0.4040 - val_accuracy: 0.8235\n",
      "Epoch 9/15\n",
      "500/500 [==============================] - 138s 276ms/step - loss: 0.4576 - accuracy: 0.7855 - val_loss: 0.4312 - val_accuracy: 0.8043\n",
      "Epoch 10/15\n",
      "500/500 [==============================] - 138s 276ms/step - loss: 0.4448 - accuracy: 0.7919 - val_loss: 0.4497 - val_accuracy: 0.7883\n",
      "Epoch 11/15\n",
      "500/500 [==============================] - 138s 275ms/step - loss: 0.4310 - accuracy: 0.8049 - val_loss: 0.4488 - val_accuracy: 0.7867\n",
      "Epoch 12/15\n",
      "500/500 [==============================] - 138s 275ms/step - loss: 0.4232 - accuracy: 0.8051 - val_loss: 0.3830 - val_accuracy: 0.8247\n",
      "Epoch 13/15\n",
      "500/500 [==============================] - 138s 275ms/step - loss: 0.4142 - accuracy: 0.8099 - val_loss: 0.3651 - val_accuracy: 0.8375\n",
      "Epoch 14/15\n",
      "500/500 [==============================] - 138s 276ms/step - loss: 0.4027 - accuracy: 0.8147 - val_loss: 0.4413 - val_accuracy: 0.7951\n",
      "Epoch 15/15\n",
      "500/500 [==============================] - 138s 276ms/step - loss: 0.3910 - accuracy: 0.8195 - val_loss: 0.3673 - val_accuracy: 0.8471\n",
      "Training time:  0:34:30.853093\n"
     ]
    }
   ],
   "source": [
    "\n",
    "model_checkpoint_path = '/content/tf_certify_prep/cats_vs_dogs/conv2d_stacked_model.h5'\n",
    "history = model_training(10, model_checkpoint_path)\n",
    "\n"
   ]
  },
  {
   "cell_type": "code",
   "execution_count": 20,
   "metadata": {
    "id": "1BsuKfM-9L6j"
   },
   "outputs": [],
   "source": [
    "\n",
    "def plot_learning_curve_metric(history, lower_limit, upper_limit):\n",
    "    plt.plot(history['accuracy'], label='training_accuracy')\n",
    "    plt.plot(history['val_accuracy'], label='validation_accuracy')\n",
    "    plt.xlabel('Epoch')\n",
    "    plt.ylabel('accuracy')\n",
    "    plt.ylim([lower_limit, upper_limit])\n",
    "    plt.legend(loc='lower right')\n",
    "\n",
    "def plot_learning_curve_loss(history, lower_limit, upper_limit):\n",
    "    plt.plot(history['loss'], label='training_loss')\n",
    "    plt.plot(history['val_loss'], label='validation_loss')\n",
    "    plt.xlabel('Epoch')\n",
    "    plt.ylabel('loss')\n",
    "    plt.ylim([lower_limit, upper_limit])\n",
    "    plt.legend(loc='upper right')\n",
    "    plt.show()\n"
   ]
  },
  {
   "cell_type": "code",
   "execution_count": 21,
   "metadata": {
    "id": "-IdjEaLmKiFD",
    "colab": {
     "base_uri": "https://localhost:8080/",
     "height": 455
    },
    "outputId": "0b466e30-de3a-4f2f-9d48-fe16a2e4cd94"
   },
   "outputs": [
    {
     "output_type": "display_data",
     "data": {
      "text/plain": [
       "<Figure size 640x480 with 1 Axes>"
      ],
      "image/png": "[encoded data removed]"
     },
     "metadata": {}
    }
   ],
   "source": [
    "plot_learning_curve_loss(history.history, 0.2, 1)"
   ]
  },
  {
   "cell_type": "code",
   "execution_count": 22,
   "metadata": {
    "id": "8rFfTKAhKiKo",
    "colab": {
     "base_uri": "https://localhost:8080/",
     "height": 455
    },
    "outputId": "7c87b4dd-633c-4d55-cae8-021d76f6df82"
   },
   "outputs": [
    {
     "output_type": "display_data",
     "data": {
      "text/plain": [
       "<Figure size 640x480 with 1 Axes>"
      ],
      "image/png": "[encoded data removed]"
     },
     "metadata": {}
    }
   ],
   "source": [
    "plot_learning_curve_metric(history.history, 0.2, 1)"
   ]
  },
  {
   "cell_type": "code",
   "source": [
    "Training time for the above two plots\n",
    "\n",
    "Epoch 15/15\n",
    "500/500 [==============================] - 138s 276ms/step - loss: 0.3910 - accuracy: 0.8195 - val_loss: 0.3673 - val_accuracy: 0.8471\n",
    "Training time:  0:34:30.853093\n"
   ],
   "metadata": {
    "id": "TXtyEpz0mhuH"
   },
   "execution_count": null,
   "outputs": []
  },
  {
   "cell_type": "code",
   "source": [],
   "metadata": {
    "id": "psD7yz4FS5KN"
   },
   "execution_count": null,
   "outputs": []
  }
 ],
 "metadata": {
  "accelerator": "GPU",
  "colab": {
   "gpuType": "A100",
   "provenance": [],
   "machine_shape": "hm"
  },
  "kernelspec": {
   "display_name": "Python 3 (ipykernel)",
   "name": "python3",
   "language": "python"
  },
  "language_info": {
   "name": "python"
  }
 },
 "nbformat": 4,
 "nbformat_minor": 0
}
