{
 "cells": [
  {
   "cell_type": "code",
   "id": "initial_id",
   "metadata": {
    "collapsed": true,
    "ExecuteTime": {
     "end_time": "2024-05-24T21:55:49.037643Z",
     "start_time": "2024-05-24T21:55:45.530975Z"
    }
   },
   "source": [
    "import os\n",
    "import numpy as np\n",
    "import tensorflow as tf\n",
    "from tensorflow import keras\n",
    "from sklearn.model_selection import KFold\n",
    "from sklearn.metrics import multilabel_confusion_matrix\n",
    "from shutil import copyfile\n",
    "import zipfile\n",
    "import random\n",
    "import shutil\n",
    "from tensorflow.keras.preprocessing.image import ImageDataGenerator\n",
    "import keras_tuner as kt\n",
    "import matplotlib.pyplot as plt\n",
    "%matplotlib inline"
   ],
   "outputs": [],
   "execution_count": 2
  },
  {
   "metadata": {
    "ExecuteTime": {
     "end_time": "2024-05-29T04:52:22.041307Z",
     "start_time": "2024-05-29T04:52:21.913275Z"
    }
   },
   "cell_type": "code",
   "source": [
    "\n",
    "!python --version"
   ],
   "id": "b705522b6f2a5de3",
   "outputs": [
    {
     "name": "stdout",
     "output_type": "stream",
     "text": [
      "Python 3.9.6\r\n"
     ]
    }
   ],
   "execution_count": 7
  },
  {
   "metadata": {
    "ExecuteTime": {
     "end_time": "2024-05-29T04:52:22.711590Z",
     "start_time": "2024-05-29T04:52:22.708474Z"
    }
   },
   "cell_type": "code",
   "source": [
    "import tensorflow as tf\n",
    "print(tf.__version__)"
   ],
   "id": "f6dd186d744efdfd",
   "outputs": [
    {
     "name": "stdout",
     "output_type": "stream",
     "text": [
      "2.16.1\n"
     ]
    }
   ],
   "execution_count": 8
  },
  {
   "metadata": {
    "ExecuteTime": {
     "end_time": "2024-04-25T16:32:51.919821Z",
     "start_time": "2024-04-25T16:32:51.916713Z"
    }
   },
   "cell_type": "code",
   "source": [
    "# List all available physical devices\n",
    "physical_devices = tf.config.list_physical_devices()\n",
    "print(\"Available physical devices:\", physical_devices)\n",
    "\n",
    "# Specifically check for GPU availability\n",
    "gpus = tf.config.list_physical_devices('GPU')\n",
    "if len(gpus) > 0:\n",
    "    print(f\"GPU is available: {gpus}\")\n",
    "else:\n",
    "    print(\"GPU is not available.\")"
   ],
   "id": "31fdf9ec0679ee48",
   "outputs": [
    {
     "name": "stdout",
     "output_type": "stream",
     "text": [
      "Available physical devices: [PhysicalDevice(name='/physical_device:CPU:0', device_type='CPU'), PhysicalDevice(name='/physical_device:GPU:0', device_type='GPU')]\n",
      "GPU is available: [PhysicalDevice(name='/physical_device:GPU:0', device_type='GPU')]\n"
     ]
    }
   ],
   "execution_count": 3
  },
  {
   "metadata": {
    "ExecuteTime": {
     "end_time": "2024-04-25T16:39:29.608869Z",
     "start_time": "2024-04-25T16:39:29.600593Z"
    }
   },
   "cell_type": "code",
   "source": [
    "\n",
    "# Define root directory\n",
    "root_dir = '/Users/chidam_sp/PycharmProjects/pythonProject2/Computer vision, Time series, and NLP_TF certification/train_valid_split'\n",
    "\n",
    "# Empty directory to prevent FileExistsError is the function is run several times\n",
    "if os.path.exists(root_dir):\n",
    "  shutil.rmtree(root_dir)\n",
    "\n",
    "# GRADED FUNCTION: create_train_val_dirs\n",
    "def create_train_val_dirs(root_path):\n",
    "    os.makedirs(os.path.join(root_path, 'training'))\n",
    "    os.makedirs(os.path.join(f'{root_path}/training', 'dogs'))\n",
    "    os.makedirs(os.path.join(f'{root_path}/training', 'cats'))\n",
    "    os.makedirs(os.path.join(root_path, 'testing'))\n",
    "    os.makedirs(os.path.join(f'{root_path}/testing', 'dogs'))\n",
    "    os.makedirs(os.path.join(f'{root_path}/testing', 'cats')) \n",
    "\n",
    "try:\n",
    "  create_train_val_dirs(root_path=root_dir)\n",
    "except FileExistsError:\n",
    "  print(\"You should not be seeing this since the upper directory is removed beforehand\")\n"
   ],
   "id": "133789fe45aaa715",
   "outputs": [],
   "execution_count": 4
  },
  {
   "metadata": {
    "ExecuteTime": {
     "end_time": "2024-04-25T16:39:30.403505Z",
     "start_time": "2024-04-25T16:39:30.399756Z"
    }
   },
   "cell_type": "code",
   "source": [
    "\n",
    "for rootdir, dirs, files in os.walk(root_dir):\n",
    "    for subdir in dirs:\n",
    "        print(os.path.join(rootdir, subdir))\n"
   ],
   "id": "d96834095b6e5054",
   "outputs": [
    {
     "name": "stdout",
     "output_type": "stream",
     "text": [
      "/Users/chidam_sp/PycharmProjects/pythonProject2/Computer vision, Time series, and NLP_TF certification/train_valid_split/training\n",
      "/Users/chidam_sp/PycharmProjects/pythonProject2/Computer vision, Time series, and NLP_TF certification/train_valid_split/testing\n",
      "/Users/chidam_sp/PycharmProjects/pythonProject2/Computer vision, Time series, and NLP_TF certification/train_valid_split/training/dogs\n",
      "/Users/chidam_sp/PycharmProjects/pythonProject2/Computer vision, Time series, and NLP_TF certification/train_valid_split/training/cats\n",
      "/Users/chidam_sp/PycharmProjects/pythonProject2/Computer vision, Time series, and NLP_TF certification/train_valid_split/testing/dogs\n",
      "/Users/chidam_sp/PycharmProjects/pythonProject2/Computer vision, Time series, and NLP_TF certification/train_valid_split/testing/cats\n"
     ]
    }
   ],
   "execution_count": 5
  },
  {
   "metadata": {
    "ExecuteTime": {
     "end_time": "2024-04-25T16:46:25.886264Z",
     "start_time": "2024-04-25T16:46:25.834947Z"
    }
   },
   "cell_type": "code",
   "source": [
    "\n",
    "len(os.listdir('/Users/chidam_sp/PycharmProjects/pythonProject2/Computer vision, Time series, and NLP_TF certification/cats_vs_dogs/PetImages/Cat'))\n"
   ],
   "id": "46269bd5da1e8987",
   "outputs": [
    {
     "data": {
      "text/plain": [
       "12501"
      ]
     },
     "execution_count": 6,
     "metadata": {},
     "output_type": "execute_result"
    }
   ],
   "execution_count": 6
  },
  {
   "metadata": {
    "ExecuteTime": {
     "end_time": "2024-04-25T16:46:37.467938Z",
     "start_time": "2024-04-25T16:46:37.428545Z"
    }
   },
   "cell_type": "code",
   "source": [
    "\n",
    "len(os.listdir(\"/Users/chidam_sp/PycharmProjects/pythonProject2/Computer vision, Time series, and NLP_TF certification/cats_vs_dogs/PetImages/Dog\"))\n"
   ],
   "id": "c502d516eb949818",
   "outputs": [
    {
     "data": {
      "text/plain": [
       "12501"
      ]
     },
     "execution_count": 7,
     "metadata": {},
     "output_type": "execute_result"
    }
   ],
   "execution_count": 7
  },
  {
   "metadata": {
    "ExecuteTime": {
     "end_time": "2024-04-29T20:56:15.239573Z",
     "start_time": "2024-04-29T20:56:15.225450Z"
    }
   },
   "cell_type": "code",
   "source": "train_generator",
   "id": "712896bfb378cd10",
   "outputs": [
    {
     "ename": "NameError",
     "evalue": "name 'train_generator' is not defined",
     "output_type": "error",
     "traceback": [
      "\u001B[0;31m---------------------------------------------------------------------------\u001B[0m",
      "\u001B[0;31mNameError\u001B[0m                                 Traceback (most recent call last)",
      "Cell \u001B[0;32mIn[317], line 1\u001B[0m\n\u001B[0;32m----> 1\u001B[0m \u001B[43mtrain_generator\u001B[49m\n",
      "\u001B[0;31mNameError\u001B[0m: name 'train_generator' is not defined"
     ]
    }
   ],
   "execution_count": 317
  },
  {
   "metadata": {
    "ExecuteTime": {
     "end_time": "2024-04-25T16:48:14.733412Z",
     "start_time": "2024-04-25T16:48:14.725833Z"
    }
   },
   "cell_type": "code",
   "source": [
    "\n",
    "def split_data(SOURCE, TRAINING, TESTING, SPLIT_SIZE):\n",
    "\n",
    "  # Shuffle list\n",
    "  shuffled_source = random.sample(os.listdir(SOURCE), len(os.listdir(SOURCE)))\n",
    "\n",
    "  # Find total number of files in training dir\n",
    "  training_number = int(len(shuffled_source) * SPLIT_SIZE)\n",
    "  i = 0\n",
    "  target = TRAINING\n",
    "\n",
    "  for item in shuffled_source:\n",
    "    item_source = os.path.join(SOURCE, item)\n",
    "    if os.path.getsize(item_source) == 0:\n",
    "      print(f'{item} is zero length, so ignoring.')\n",
    "    else: \n",
    "      copyfile(item_source, os.path.join(target, item))\n",
    "      i += 1\n",
    "\n",
    "    # Switch copy target to TESTING\n",
    "    if i == training_number:\n",
    "      target = TESTING\n"
   ],
   "id": "5c919818d7e82e0d",
   "outputs": [],
   "execution_count": 8
  },
  {
   "metadata": {
    "ExecuteTime": {
     "end_time": "2024-04-25T16:50:22.964390Z",
     "start_time": "2024-04-25T16:50:22.956682Z"
    }
   },
   "cell_type": "code",
   "source": "os.getcwd()",
   "id": "67aaf1277241df0c",
   "outputs": [
    {
     "data": {
      "text/plain": [
       "'/Users/chidam_sp/PycharmProjects/pythonProject2/Computer vision, Time series, and NLP_TF certification/cats_vs_dogs'"
      ]
     },
     "execution_count": 9,
     "metadata": {},
     "output_type": "execute_result"
    }
   ],
   "execution_count": 9
  },
  {
   "metadata": {
    "ExecuteTime": {
     "end_time": "2024-04-25T16:53:21.282138Z",
     "start_time": "2024-04-25T16:53:11.604458Z"
    }
   },
   "cell_type": "code",
   "source": [
    "\n",
    "# Define paths\n",
    "CAT_SOURCE_DIR = \"/Users/chidam_sp/PycharmProjects/pythonProject2/Computer vision, Time series, and NLP_TF certification/cats_vs_dogs/PetImages/Cat/\"\n",
    "DOG_SOURCE_DIR = '/Users/chidam_sp/PycharmProjects/pythonProject2/Computer vision, Time series, and NLP_TF certification/cats_vs_dogs/PetImages/Dog/'\n",
    "\n",
    "TRAINING_DIR = '/Users/chidam_sp/PycharmProjects/pythonProject2/Computer vision, Time series, and NLP_TF certification/cats_vs_dogs/train_valid_split/training/'\n",
    "TESTING_DIR = '/Users/chidam_sp/PycharmProjects/pythonProject2/Computer vision, Time series, and NLP_TF certification/cats_vs_dogs/train_valid_split/testing/'\n",
    "\n",
    "TRAINING_CATS_DIR = os.path.join(TRAINING_DIR, \"cats/\")\n",
    "TESTING_CATS_DIR = os.path.join(TESTING_DIR, \"cats/\")\n",
    "\n",
    "TRAINING_DOGS_DIR = os.path.join(TRAINING_DIR, \"dogs/\")\n",
    "TESTING_DOGS_DIR = os.path.join(TESTING_DIR, \"dogs/\")\n",
    "\n",
    "\n",
    "# Empty directories in case you run this cell multiple times\n",
    "if len(os.listdir(TRAINING_CATS_DIR)) > 0:\n",
    "  for file in os.scandir(TRAINING_CATS_DIR):\n",
    "    os.remove(file.path)\n",
    "if len(os.listdir(TRAINING_DOGS_DIR)) > 0:\n",
    "  for file in os.scandir(TRAINING_DOGS_DIR):\n",
    "    os.remove(file.path)\n",
    "if len(os.listdir(TESTING_CATS_DIR)) > 0:\n",
    "  for file in os.scandir(TESTING_CATS_DIR):\n",
    "    os.remove(file.path)\n",
    "if len(os.listdir(TESTING_DOGS_DIR)) > 0:\n",
    "  for file in os.scandir(TESTING_DOGS_DIR):\n",
    "    os.remove(file.path)\n",
    "\n",
    "# Define proportion of images used for training\n",
    "split_size = .9\n",
    "\n",
    "# Run the function\n",
    "# NOTE: Messages about zero length images should be printed out\n",
    "split_data(CAT_SOURCE_DIR, TRAINING_CATS_DIR, TESTING_CATS_DIR, split_size)\n",
    "split_data(DOG_SOURCE_DIR, TRAINING_DOGS_DIR, TESTING_DOGS_DIR, split_size)\n",
    "\n",
    "# Check that the number of images matches the expected output\n",
    "print(f\"\\n\\nThere are {len(os.listdir(TRAINING_CATS_DIR))} images of cats for training\")\n",
    "print(f\"There are {len(os.listdir(TRAINING_DOGS_DIR))} images of dogs for training\")\n",
    "print(f\"There are {len(os.listdir(TESTING_CATS_DIR))} images of cats for testing\")\n",
    "print(f\"There are {len(os.listdir(TESTING_DOGS_DIR))} images of dogs for testing\")\n"
   ],
   "id": "59aebc616ea32177",
   "outputs": [
    {
     "name": "stdout",
     "output_type": "stream",
     "text": [
      "666.jpg is zero length, so ignoring.\n",
      "11702.jpg is zero length, so ignoring.\n",
      "\n",
      "\n",
      "There are 11250 images of cats for training\n",
      "There are 11250 images of dogs for training\n",
      "There are 1250 images of cats for testing\n",
      "There are 1250 images of dogs for testing\n"
     ]
    }
   ],
   "execution_count": 11
  },
  {
   "metadata": {
    "ExecuteTime": {
     "end_time": "2024-04-25T16:54:47.535514Z",
     "start_time": "2024-04-25T16:54:47.530590Z"
    }
   },
   "cell_type": "code",
   "source": [
    "\n",
    "11250+11250\n"
   ],
   "id": "d4264b577f77888f",
   "outputs": [
    {
     "data": {
      "text/plain": [
       "22500"
      ]
     },
     "execution_count": 12,
     "metadata": {},
     "output_type": "execute_result"
    }
   ],
   "execution_count": 12
  },
  {
   "metadata": {
    "ExecuteTime": {
     "end_time": "2024-04-25T16:55:02.491161Z",
     "start_time": "2024-04-25T16:55:02.487499Z"
    }
   },
   "cell_type": "code",
   "source": "1250+1250",
   "id": "38620a456312f828",
   "outputs": [
    {
     "data": {
      "text/plain": [
       "2500"
      ]
     },
     "execution_count": 13,
     "metadata": {},
     "output_type": "execute_result"
    }
   ],
   "execution_count": 13
  },
  {
   "metadata": {
    "ExecuteTime": {
     "end_time": "2024-04-26T23:59:18.465732Z",
     "start_time": "2024-04-26T23:59:18.457305Z"
    }
   },
   "cell_type": "code",
   "source": "TRAINING_DIR",
   "id": "88e619450d9e3324",
   "outputs": [
    {
     "data": {
      "text/plain": [
       "'/Users/chidam_sp/PycharmProjects/pythonProject2/Computer vision, Time series, and NLP_TF certification/cats_vs_dogs/train_valid_split/training/'"
      ]
     },
     "execution_count": 150,
     "metadata": {},
     "output_type": "execute_result"
    }
   ],
   "execution_count": 150
  },
  {
   "metadata": {
    "ExecuteTime": {
     "end_time": "2024-04-27T00:47:29.296930Z",
     "start_time": "2024-04-27T00:47:29.292874Z"
    }
   },
   "cell_type": "code",
   "source": "TESTING_DIR",
   "id": "a3878b9ce4ada201",
   "outputs": [
    {
     "data": {
      "text/plain": [
       "'/Users/chidam_sp/PycharmProjects/pythonProject2/Computer vision, Time series, and NLP_TF certification/cats_vs_dogs/train_valid_split/testing/'"
      ]
     },
     "execution_count": 164,
     "metadata": {},
     "output_type": "execute_result"
    }
   ],
   "execution_count": 164
  },
  {
   "metadata": {
    "ExecuteTime": {
     "end_time": "2024-05-24T21:55:42.205537Z",
     "start_time": "2024-05-24T21:55:42.079432Z"
    }
   },
   "cell_type": "code",
   "source": "del history, model_training, train_val_generators, model_build",
   "id": "71dc07c13af039c5",
   "outputs": [
    {
     "ename": "NameError",
     "evalue": "name 'history' is not defined",
     "output_type": "error",
     "traceback": [
      "\u001B[0;31m---------------------------------------------------------------------------\u001B[0m",
      "\u001B[0;31mNameError\u001B[0m                                 Traceback (most recent call last)",
      "Cell \u001B[0;32mIn[1], line 1\u001B[0m\n\u001B[0;32m----> 1\u001B[0m \u001B[38;5;28;01mdel\u001B[39;00m history, model_training, train_val_generators, model_build\n",
      "\u001B[0;31mNameError\u001B[0m: name 'history' is not defined"
     ]
    }
   ],
   "execution_count": 1
  },
  {
   "metadata": {},
   "cell_type": "markdown",
   "source": "## Training step",
   "id": "4369fdd4cab6724a"
  },
  {
   "metadata": {
    "ExecuteTime": {
     "end_time": "2024-04-29T20:16:07.713453Z",
     "start_time": "2024-04-29T20:16:07.703283Z"
    }
   },
   "cell_type": "code",
   "source": [
    "\n",
    "def train_val_generators(TRAINING_DIR, TESTING_DIR):\n",
    "    train_datagen = ImageDataGenerator(rescale=1./255, \n",
    "                                       rotation_range = 40,\n",
    "                                     width_shift_range = 0.2,\n",
    "                                     height_shift_range = 0.2,\n",
    "                                     shear_range = 0.2,\n",
    "                                     zoom_range = 0.2,\n",
    "                                     horizontal_flip = True,\n",
    "                                     fill_mode='nearest')\n",
    "\n",
    "\n",
    "    train_generator = train_datagen.flow_from_directory(directory=TRAINING_DIR, \n",
    "                                                        batch_size=128, class_mode='binary', target_size=(150, 150))\n",
    "    # save_to_dir=/tmp/img-data-gen-outputs\n",
    "    \n",
    "    validation_datagen = ImageDataGenerator(rescale=1./255)\n",
    "    \n",
    "    validation_generator = validation_datagen.flow_from_directory(directory=TESTING_DIR, \n",
    "                                                                  batch_size=32, class_mode='binary', target_size=(150, 150))\n",
    "    \n",
    "    return train_generator, validation_generator\n",
    "\n",
    "def model_build():\n",
    "    # Define the model\n",
    "    model = tf.keras.models.Sequential([\n",
    "        tf.keras.layers.Conv2D(32, (3, 3), activation='relu', input_shape=(150, 150, 3)),\n",
    "        tf.keras.layers.MaxPooling2D(2, 2),\n",
    "        tf.keras.layers.Conv2D(32, (3, 3), activation='relu'),\n",
    "        tf.keras.layers.MaxPooling2D(2, 2),\n",
    "        tf.keras.layers.Conv2D(64, (3, 3), activation='relu'),\n",
    "        tf.keras.layers.MaxPooling2D(2, 2),    \n",
    "        tf.keras.layers.Conv2D(64, (3, 3), activation='relu'),\n",
    "        tf.keras.layers.MaxPooling2D(2, 2),\n",
    "        # tf.keras.layers.Dropout(0.2),\n",
    "        tf.keras.layers.Conv2D(64, (3, 3), activation='relu'),\n",
    "        tf.keras.layers.MaxPooling2D(2, 2),\n",
    "        tf.keras.layers.Dropout(0.1),\n",
    "        tf.keras.layers.Flatten(),\n",
    "        tf.keras.layers.Dense(128, activation='relu'),\n",
    "        tf.keras.layers.Dense(1, activation='sigmoid')\n",
    "    ])\n",
    "    # Compile the model\n",
    "    model.compile(optimizer=tf.keras.optimizers.legacy.Adam(learning_rate=0.00018),\n",
    "                  loss='binary_crossentropy',\n",
    "                  metrics=['accuracy'])\n",
    "    \n",
    "    return model\n",
    "\n",
    "class myCallback(tf.keras.callbacks.Callback):\n",
    "    def on_epoch_end(self, epoch, logs={}):\n",
    "        if(logs.get('accuracy') > 0.95):\n",
    "            print(\"\\nReached 95% accuracy so cancelling training!\")\n",
    "            self.model.stop_training = True\n",
    "\n",
    "#How to set up a CV loop for a computer vision problem?\n",
    "\n",
    "def model_training(EPOCHS, model_checkpoint_path):\n",
    "    import datetime\n",
    "    start_time = datetime.datetime.now()\n",
    "    train_generator, validation_generator = train_val_generators(TRAINING_DIR, TESTING_DIR)\n",
    "    callbacks = myCallback()\n",
    "    model = model_build()\n",
    "    # early_stopping = tf.keras.callbacks.EarlyStopping(monitor='loss',\n",
    "    #                                             patience=patience,\n",
    "    #                                             mode='min')\n",
    "    model_checkpoint = tf.keras.callbacks.ModelCheckpoint(model_checkpoint_path, monitor='loss', mode='min', save_best_only=True)\n",
    "    history = model.fit(train_generator, epochs=EPOCHS, validation_data=validation_generator, verbose=1, callbacks=[callbacks, model_checkpoint])\n",
    "    end_time = datetime.datetime.now()\n",
    "    print(\"Training time: \", end_time - start_time)\n",
    "    return history\n"
   ],
   "id": "e1b4288520a2c79e",
   "outputs": [],
   "execution_count": 298
  },
  {
   "metadata": {
    "ExecuteTime": {
     "end_time": "2024-04-29T20:28:10.850759Z",
     "start_time": "2024-04-29T20:16:08.558077Z"
    }
   },
   "cell_type": "code",
   "source": [
    "\n",
    "model_checkpoint_path = '/Users/chidam_sp/PycharmProjects/pythonProject2/Computer vision, Time series, and NLP_TF certification/cats_vs_dogs/conv2d_stacked_model.h5'\n",
    "history = model_training(10, model_checkpoint_path)\n"
   ],
   "id": "4e1cc9e4f07d0ef3",
   "outputs": [
    {
     "name": "stdout",
     "output_type": "stream",
     "text": [
      "Found 22498 images belonging to 2 classes.\n",
      "Found 2500 images belonging to 2 classes.\n",
      "Epoch 1/10\n",
      "176/176 [==============================] - 72s 401ms/step - loss: 0.6784 - accuracy: 0.5625 - val_loss: 0.6777 - val_accuracy: 0.5584\n",
      "Epoch 2/10\n",
      "176/176 [==============================] - 71s 405ms/step - loss: 0.6488 - accuracy: 0.6228 - val_loss: 0.6147 - val_accuracy: 0.6620\n",
      "Epoch 3/10\n",
      "176/176 [==============================] - 71s 402ms/step - loss: 0.6123 - accuracy: 0.6643 - val_loss: 0.5618 - val_accuracy: 0.7160\n",
      "Epoch 4/10\n",
      "176/176 [==============================] - 72s 409ms/step - loss: 0.5881 - accuracy: 0.6869 - val_loss: 0.5283 - val_accuracy: 0.7452\n",
      "Epoch 5/10\n",
      "176/176 [==============================] - 70s 400ms/step - loss: 0.5661 - accuracy: 0.7076 - val_loss: 0.5423 - val_accuracy: 0.7268\n",
      "Epoch 6/10\n",
      "176/176 [==============================] - 70s 397ms/step - loss: 0.5464 - accuracy: 0.7230 - val_loss: 0.5001 - val_accuracy: 0.7592\n",
      "Epoch 7/10\n",
      "176/176 [==============================] - 71s 400ms/step - loss: 0.5342 - accuracy: 0.7294 - val_loss: 0.4589 - val_accuracy: 0.7844\n",
      "Epoch 8/10\n",
      "176/176 [==============================] - 70s 398ms/step - loss: 0.5278 - accuracy: 0.7359 - val_loss: 0.4552 - val_accuracy: 0.7776\n",
      "Epoch 9/10\n",
      "176/176 [==============================] - 75s 425ms/step - loss: 0.5207 - accuracy: 0.7434 - val_loss: 0.4398 - val_accuracy: 0.8008\n",
      "Epoch 10/10\n",
      "176/176 [==============================] - 79s 447ms/step - loss: 0.5015 - accuracy: 0.7530 - val_loss: 0.4355 - val_accuracy: 0.7984\n",
      "Training time:  0:12:02.277272\n"
     ]
    }
   ],
   "execution_count": 299
  },
  {
   "metadata": {
    "ExecuteTime": {
     "end_time": "2024-04-29T22:56:08.955630Z",
     "start_time": "2024-04-29T22:56:08.936841Z"
    }
   },
   "cell_type": "code",
   "source": [
    "\n",
    "def plot_learning_curve_metric(history, lower_limit, upper_limit):\n",
    "    plt.plot(history['accuracy'], label='training_accuracy')\n",
    "    plt.plot(history['val_accuracy'], label='validation_accuracy')\n",
    "    plt.xlabel('Epoch')\n",
    "    plt.ylabel('accuracy')\n",
    "    plt.ylim([lower_limit, upper_limit])\n",
    "    plt.legend(loc='lower right')\n",
    "\n",
    "def plot_learning_curve_loss(history, lower_limit, upper_limit):\n",
    "    plt.plot(history['loss'], label='training_loss')\n",
    "    plt.plot(history['val_loss'], label='validation_loss')\n",
    "    plt.xlabel('Epoch')\n",
    "    plt.ylabel('loss')\n",
    "    plt.ylim([lower_limit, upper_limit])\n",
    "    plt.legend(loc='upper right')\n",
    "    plt.show()\n"
   ],
   "id": "d0f35c0ce827c445",
   "outputs": [],
   "execution_count": 361
  },
  {
   "metadata": {},
   "cell_type": "code",
   "outputs": [],
   "execution_count": null,
   "source": "1.",
   "id": "1ebd8ce24928cf0f"
  },
  {
   "metadata": {
    "ExecuteTime": {
     "end_time": "2024-04-29T20:13:06.461085Z",
     "start_time": "2024-04-29T20:13:06.339706Z"
    }
   },
   "cell_type": "code",
   "source": [
    "\n",
    "plot_learning_curve_loss(history.history, 0.2, 1)\n"
   ],
   "id": "902f4eac1ae9ceee",
   "outputs": [
    {
     "data": {
      "text/plain": [
       "<Figure size 640x480 with 1 Axes>"
      ],
      "image/png": "[encoded data removed]"
     },
     "metadata": {},
     "output_type": "display_data"
    }
   ],
   "execution_count": 295
  },
  {
   "metadata": {
    "ExecuteTime": {
     "end_time": "2024-04-29T20:13:08.095112Z",
     "start_time": "2024-04-29T20:13:08.016223Z"
    }
   },
   "cell_type": "code",
   "source": "plot_learning_curve_metric(history.history, 0.4, 1)",
   "id": "d635025e43434dfe",
   "outputs": [
    {
     "data": {
      "text/plain": [
       "<Figure size 640x480 with 1 Axes>"
      ],
      "image/png": "[encoded data removed]"
     },
     "metadata": {},
     "output_type": "display_data"
    }
   ],
   "execution_count": 296
  },
  {
   "metadata": {
    "ExecuteTime": {
     "end_time": "2024-04-29T20:54:00.362546Z",
     "start_time": "2024-04-29T20:54:00.360346Z"
    }
   },
   "cell_type": "code",
   "source": [
    "\n",
    "for i in np.arange(0.00018, 0.00022, 0.000001):\n",
    "    print(i)\n"
   ],
   "id": "c9a8191018682d9f",
   "outputs": [
    {
     "name": "stdout",
     "output_type": "stream",
     "text": [
      "0.00018\n",
      "0.000181\n",
      "0.000182\n",
      "0.000183\n",
      "0.000184\n",
      "0.000185\n",
      "0.000186\n",
      "0.000187\n",
      "0.000188\n",
      "0.00018899999999999999\n",
      "0.00018999999999999998\n",
      "0.00019099999999999998\n",
      "0.00019199999999999998\n",
      "0.00019299999999999997\n",
      "0.00019399999999999997\n",
      "0.00019499999999999997\n",
      "0.00019599999999999997\n",
      "0.00019699999999999996\n",
      "0.00019799999999999996\n",
      "0.00019899999999999996\n",
      "0.00019999999999999996\n",
      "0.00020099999999999995\n",
      "0.00020199999999999995\n",
      "0.00020299999999999995\n",
      "0.00020399999999999994\n",
      "0.00020499999999999994\n",
      "0.00020599999999999994\n",
      "0.00020699999999999994\n",
      "0.00020799999999999993\n",
      "0.00020899999999999993\n",
      "0.00020999999999999993\n",
      "0.00021099999999999992\n",
      "0.00021199999999999992\n",
      "0.00021299999999999992\n",
      "0.00021399999999999992\n",
      "0.0002149999999999999\n",
      "0.0002159999999999999\n",
      "0.0002169999999999999\n",
      "0.0002179999999999999\n",
      "0.0002189999999999999\n"
     ]
    }
   ],
   "execution_count": 310
  },
  {
   "metadata": {},
   "cell_type": "markdown",
   "source": [
    "\n",
    "## Hyperparameter tuning step\n"
   ],
   "id": "5b4a82d11a15ad7f"
  },
  {
   "metadata": {
    "ExecuteTime": {
     "end_time": "2024-04-29T20:58:23.411457Z",
     "start_time": "2024-04-29T20:58:23.403695Z"
    }
   },
   "cell_type": "code",
   "source": [
    "\n",
    "def model_builder(hp):\n",
    "    \n",
    "    model = tf.keras.models.Sequential([\n",
    "        tf.keras.layers.Conv2D(32, (3, 3), activation='relu', input_shape=(150, 150, 3)),\n",
    "        tf.keras.layers.MaxPooling2D(2, 2),\n",
    "        tf.keras.layers.Conv2D(32, (3, 3), activation='relu'),\n",
    "        tf.keras.layers.MaxPooling2D(2, 2),\n",
    "        tf.keras.layers.Conv2D(64, (3, 3), activation='relu'),\n",
    "        tf.keras.layers.MaxPooling2D(2, 2),    \n",
    "        tf.keras.layers.Conv2D(64, (3, 3), activation='relu'),\n",
    "        tf.keras.layers.MaxPooling2D(2, 2),\n",
    "        # tf.keras.layers.Dropout(0.2),\n",
    "        tf.keras.layers.Conv2D(64, (3, 3), activation='relu'),\n",
    "        tf.keras.layers.MaxPooling2D(2, 2),\n",
    "        tf.keras.layers.Dropout(0.1),\n",
    "        tf.keras.layers.Flatten(),\n",
    "        tf.keras.layers.Dense(128, activation='relu'),\n",
    "        tf.keras.layers.Dense(1, activation='sigmoid')\n",
    "    ])\n",
    "\n",
    "    optimizer = tf.keras.optimizers.legacy.Adam(learning_rate=hp.Float('learning_rate', min_value=0.00018, max_value=0.00022, step=0.000001))\n",
    "\n",
    "    model.compile(optimizer=optimizer,\n",
    "                  loss='binary_crossentropy',\n",
    "                  metrics=['accuracy'])\n",
    "\n",
    "    return model\n"
   ],
   "id": "a372cbe9d61535e6",
   "outputs": [],
   "execution_count": 321
  },
  {
   "metadata": {
    "ExecuteTime": {
     "end_time": "2024-04-29T20:58:24.679261Z",
     "start_time": "2024-04-29T20:58:24.674704Z"
    }
   },
   "cell_type": "code",
   "source": [
    "\n",
    "def hp_tuning():\n",
    "    import datetime\n",
    "    stop_early = tf.keras.callbacks.EarlyStopping(monitor='val_loss', patience=5)\n",
    "    tuner = kt.BayesianOptimization(model_builder, objective='val_loss', max_trials=2, directory='hyperparameter_tuning', project_name='cats_vs_dogs_hp_tuning', overwrite=True) \n",
    "    train_generator, validation_generator = train_val_generators(TRAINING_DIR, TESTING_DIR)\n",
    "    start_time = datetime.datetime.now()\n",
    "    tuner.search(train_generator, validation_data=validation_generator, epochs=10, callbacks=[stop_early], verbose=1)\n",
    "    end_time = datetime.datetime.now()\n",
    "    print(\"Training time: \", end_time - start_time)\n",
    "    best_hps = tuner.get_best_hyperparameters(num_trials=1)[0]\n",
    "    hypermodel = tuner.hypermodel.build(best_hps)\n",
    "    return best_hps, hypermodel\n"
   ],
   "id": "b73b1acfdf12858d",
   "outputs": [],
   "execution_count": 322
  },
  {
   "metadata": {},
   "cell_type": "code",
   "source": [
    "\n",
    "best_hps, hypermodel = hp_tuning()\n"
   ],
   "id": "3bb1b1035c8536ef",
   "execution_count": 323,
   "outputs": [
    {
     "name": "stdout",
     "output_type": "stream",
     "text": [
      "Trial 2 Complete [00h 12m 30s]\n",
      "val_loss: 0.4276340901851654\n",
      "\n",
      "Best val_loss So Far: 0.4276340901851654\n",
      "Total elapsed time: 00h 24m 41s\n",
      "Training time:  0:24:40.700768\n"
     ]
    }
   ]
  },
  {
   "metadata": {
    "ExecuteTime": {
     "end_time": "2024-04-29T22:14:52.832046Z",
     "start_time": "2024-04-29T22:14:52.818579Z"
    }
   },
   "cell_type": "code",
   "source": "hypermodel.summary()",
   "id": "60b43e06b1ca5a25",
   "outputs": [
    {
     "name": "stdout",
     "output_type": "stream",
     "text": [
      "Model: \"sequential_1\"\n",
      "_________________________________________________________________\n",
      " Layer (type)                Output Shape              Param #   \n",
      "=================================================================\n",
      " conv2d_5 (Conv2D)           (None, 148, 148, 32)      896       \n",
      "                                                                 \n",
      " max_pooling2d_5 (MaxPoolin  (None, 74, 74, 32)        0         \n",
      " g2D)                                                            \n",
      "                                                                 \n",
      " conv2d_6 (Conv2D)           (None, 72, 72, 32)        9248      \n",
      "                                                                 \n",
      " max_pooling2d_6 (MaxPoolin  (None, 36, 36, 32)        0         \n",
      " g2D)                                                            \n",
      "                                                                 \n",
      " conv2d_7 (Conv2D)           (None, 34, 34, 64)        18496     \n",
      "                                                                 \n",
      " max_pooling2d_7 (MaxPoolin  (None, 17, 17, 64)        0         \n",
      " g2D)                                                            \n",
      "                                                                 \n",
      " conv2d_8 (Conv2D)           (None, 15, 15, 64)        36928     \n",
      "                                                                 \n",
      " max_pooling2d_8 (MaxPoolin  (None, 7, 7, 64)          0         \n",
      " g2D)                                                            \n",
      "                                                                 \n",
      " conv2d_9 (Conv2D)           (None, 5, 5, 64)          36928     \n",
      "                                                                 \n",
      " max_pooling2d_9 (MaxPoolin  (None, 2, 2, 64)          0         \n",
      " g2D)                                                            \n",
      "                                                                 \n",
      " dropout_1 (Dropout)         (None, 2, 2, 64)          0         \n",
      "                                                                 \n",
      " flatten_1 (Flatten)         (None, 256)               0         \n",
      "                                                                 \n",
      " dense_2 (Dense)             (None, 128)               32896     \n",
      "                                                                 \n",
      " dense_3 (Dense)             (None, 1)                 129       \n",
      "                                                                 \n",
      "=================================================================\n",
      "Total params: 135521 (529.38 KB)\n",
      "Trainable params: 135521 (529.38 KB)\n",
      "Non-trainable params: 0 (0.00 Byte)\n",
      "_________________________________________________________________\n"
     ]
    }
   ],
   "execution_count": 351
  },
  {
   "metadata": {
    "ExecuteTime": {
     "end_time": "2024-04-29T21:29:01.830865Z",
     "start_time": "2024-04-29T21:29:01.818049Z"
    }
   },
   "cell_type": "code",
   "source": [
    "\n",
    "for hp in best_hps.space:\n",
    "  print(f\"{hp.name}: {best_hps.get(hp.name)}\")\n"
   ],
   "id": "9131a346f9839ffd",
   "outputs": [
    {
     "name": "stdout",
     "output_type": "stream",
     "text": [
      "learning_rate: 0.000185\n"
     ]
    }
   ],
   "execution_count": 324
  },
  {
   "metadata": {
    "ExecuteTime": {
     "end_time": "2024-04-29T22:23:30.834454Z",
     "start_time": "2024-04-29T22:23:30.822520Z"
    }
   },
   "cell_type": "code",
   "source": [
    "\n",
    "def train_val_generators(TRAINING_DIR, TESTING_DIR):\n",
    "    train_datagen = ImageDataGenerator(rescale=1./255, \n",
    "                                       rotation_range = 40,\n",
    "                                     width_shift_range = 0.2,\n",
    "                                     height_shift_range = 0.2,\n",
    "                                     shear_range = 0.2,\n",
    "                                     zoom_range = 0.2,\n",
    "                                     horizontal_flip = True,\n",
    "                                     fill_mode='nearest')\n",
    "\n",
    "\n",
    "    train_generator = train_datagen.flow_from_directory(directory=TRAINING_DIR, \n",
    "                                                        batch_size=128, class_mode='binary', target_size=(150, 150))\n",
    "    # save_to_dir=/tmp/img-data-gen-outputs\n",
    "    \n",
    "    validation_datagen = ImageDataGenerator(rescale=1./255)\n",
    "    \n",
    "    validation_generator = validation_datagen.flow_from_directory(directory=TESTING_DIR, \n",
    "                                                                  batch_size=32, class_mode='binary', target_size=(150, 150))\n",
    "    \n",
    "    return train_generator, validation_generator\n",
    "\n",
    "class myCallback(tf.keras.callbacks.Callback):\n",
    "    def on_epoch_end(self, epoch, logs={}):\n",
    "        if(logs.get('accuracy') > 0.95):\n",
    "            print(\"\\nReached 95% accuracy so cancelling training!\")\n",
    "            self.model.stop_training = True\n",
    "\n",
    "def hyperparameter_tuning(model_tuning_checkpoint, hypermodel):\n",
    "    import datetime\n",
    "    callbacks = myCallback()\n",
    "    model_checkpoint = tf.keras.callbacks.ModelCheckpoint(model_tuning_checkpoint, monitor='loss', mode='min', save_best_only=True)\n",
    "    \n",
    "    train_generator, validation_generator = train_val_generators(TRAINING_DIR, TESTING_DIR)\n",
    "    start_time = datetime.datetime.now()\n",
    "    \n",
    "    tuning_history = hypermodel.fit(train_generator, epochs=20, validation_data=validation_generator, verbose=1, callbacks=[callbacks, model_checkpoint])\n",
    "    \n",
    "    end_time = datetime.datetime.now()\n",
    "    print(\"Training time: \", end_time - start_time)\n",
    "    return tuning_history\n",
    "    "
   ],
   "id": "2bb8e32bece39e44",
   "outputs": [],
   "execution_count": 359
  },
  {
   "metadata": {
    "ExecuteTime": {
     "end_time": "2024-04-29T22:52:55.982312Z",
     "start_time": "2024-04-29T22:23:31.724584Z"
    }
   },
   "cell_type": "code",
   "source": [
    "\n",
    "model_tuning_checkpoint = '/Users/chidam_sp/PycharmProjects/pythonProject2/Computer vision, Time series, and NLP_TF certification/cats_vs_dogs/conv2d_stacked_model_with_best_tuning_params.h5'\n",
    "\n",
    "tuning_history = hyperparameter_tuning(model_tuning_checkpoint, hypermodel)\n"
   ],
   "id": "6c6cea56fcfc87dd",
   "outputs": [
    {
     "name": "stdout",
     "output_type": "stream",
     "text": [
      "Found 22498 images belonging to 2 classes.\n",
      "Found 2500 images belonging to 2 classes.\n",
      "Epoch 1/20\n",
      "176/176 [==============================] - 77s 422ms/step - loss: 0.6789 - accuracy: 0.5624 - val_loss: 0.6404 - val_accuracy: 0.6320\n",
      "Epoch 2/20\n",
      "176/176 [==============================] - 73s 413ms/step - loss: 0.6517 - accuracy: 0.6224 - val_loss: 0.6229 - val_accuracy: 0.6584\n",
      "Epoch 3/20\n",
      "176/176 [==============================] - 72s 408ms/step - loss: 0.6207 - accuracy: 0.6541 - val_loss: 0.5670 - val_accuracy: 0.7160\n",
      "Epoch 4/20\n",
      "176/176 [==============================] - 73s 414ms/step - loss: 0.5958 - accuracy: 0.6842 - val_loss: 0.5315 - val_accuracy: 0.7372\n",
      "Epoch 5/20\n",
      "176/176 [==============================] - 72s 406ms/step - loss: 0.5818 - accuracy: 0.6926 - val_loss: 0.5305 - val_accuracy: 0.7372\n",
      "Epoch 6/20\n",
      "176/176 [==============================] - 72s 409ms/step - loss: 0.5573 - accuracy: 0.7150 - val_loss: 0.4947 - val_accuracy: 0.7736\n",
      "Epoch 7/20\n",
      "176/176 [==============================] - 70s 399ms/step - loss: 0.5437 - accuracy: 0.7223 - val_loss: 0.4698 - val_accuracy: 0.7864\n",
      "Epoch 8/20\n",
      "176/176 [==============================] - 398s 2s/step - loss: 0.5349 - accuracy: 0.7339 - val_loss: 0.4693 - val_accuracy: 0.7776\n",
      "Epoch 9/20\n",
      "176/176 [==============================] - 69s 394ms/step - loss: 0.5219 - accuracy: 0.7390 - val_loss: 0.4711 - val_accuracy: 0.7808\n",
      "Epoch 10/20\n",
      "176/176 [==============================] - 72s 406ms/step - loss: 0.5142 - accuracy: 0.7469 - val_loss: 0.4360 - val_accuracy: 0.8000\n",
      "Epoch 11/20\n",
      "176/176 [==============================] - 71s 405ms/step - loss: 0.4989 - accuracy: 0.7546 - val_loss: 0.4162 - val_accuracy: 0.8132\n",
      "Epoch 12/20\n",
      "176/176 [==============================] - 70s 399ms/step - loss: 0.4890 - accuracy: 0.7614 - val_loss: 0.4173 - val_accuracy: 0.8036\n",
      "Epoch 13/20\n",
      "176/176 [==============================] - 73s 413ms/step - loss: 0.4877 - accuracy: 0.7638 - val_loss: 0.3943 - val_accuracy: 0.8256\n",
      "Epoch 14/20\n",
      "176/176 [==============================] - 73s 413ms/step - loss: 0.4788 - accuracy: 0.7708 - val_loss: 0.4132 - val_accuracy: 0.8144\n",
      "Epoch 15/20\n",
      "176/176 [==============================] - 72s 410ms/step - loss: 0.4740 - accuracy: 0.7699 - val_loss: 0.3823 - val_accuracy: 0.8280\n",
      "Epoch 16/20\n",
      "176/176 [==============================] - 71s 403ms/step - loss: 0.4701 - accuracy: 0.7760 - val_loss: 0.3950 - val_accuracy: 0.8224\n",
      "Epoch 17/20\n",
      "176/176 [==============================] - 71s 405ms/step - loss: 0.4650 - accuracy: 0.7797 - val_loss: 0.3759 - val_accuracy: 0.8336\n",
      "Epoch 18/20\n",
      "176/176 [==============================] - 70s 395ms/step - loss: 0.4596 - accuracy: 0.7773 - val_loss: 0.3817 - val_accuracy: 0.8280\n",
      "Epoch 19/20\n",
      "176/176 [==============================] - 73s 414ms/step - loss: 0.4478 - accuracy: 0.7875 - val_loss: 0.4002 - val_accuracy: 0.8208\n",
      "Epoch 20/20\n",
      "176/176 [==============================] - 72s 408ms/step - loss: 0.4524 - accuracy: 0.7866 - val_loss: 0.3801 - val_accuracy: 0.8304\n",
      "Training time:  0:29:23.976378\n"
     ]
    }
   ],
   "execution_count": 360
  },
  {
   "metadata": {
    "ExecuteTime": {
     "end_time": "2024-04-29T22:56:27.147015Z",
     "start_time": "2024-04-29T22:56:27.007443Z"
    }
   },
   "cell_type": "code",
   "source": [
    "\n",
    "plot_learning_curve_loss(tuning_history.history, 0.2, 1)\n"
   ],
   "id": "e2619bd2f66ba009",
   "outputs": [
    {
     "data": {
      "text/plain": [
       "<Figure size 640x480 with 1 Axes>"
      ],
      "image/png": "[encoded data removed]"
     },
     "metadata": {},
     "output_type": "display_data"
    }
   ],
   "execution_count": 363
  },
  {
   "metadata": {
    "ExecuteTime": {
     "end_time": "2024-04-29T22:56:44.419828Z",
     "start_time": "2024-04-29T22:56:44.320088Z"
    }
   },
   "cell_type": "code",
   "source": [
    "\n",
    "\n",
    "plot_learning_curve_metric(tuning_history.history, 0.2, 1)\n"
   ],
   "id": "9390d969d5437ae7",
   "outputs": [
    {
     "data": {
      "text/plain": [
       "<Figure size 640x480 with 1 Axes>"
      ],
      "image/png": "[encoded data removed]"
     },
     "metadata": {},
     "output_type": "display_data"
    }
   ],
   "execution_count": 364
  },
  {
   "metadata": {},
   "cell_type": "markdown",
   "source": [
    "# Summary\n",
    "\n",
    "Aha the tuning process has achieved a good performance. It did not appear that especially when I had already tried using the learning_rate=0.00018. The final mdoel through the tuning process is saved and you have recorded the model architecture so good to go! Still not sure whether this is enough but at least I have saved it in case needed.\n",
    "\n"
   ],
   "id": "61859e47783f86cf"
  },
  {
   "metadata": {},
   "cell_type": "markdown",
   "source": [
    "\n",
    "## Winning model architecture and the final one saved as: conv2d_stacked_model_with_best_tuning_params.h5\n"
   ],
   "id": "4b9a865ad55f5b11"
  },
  {
   "metadata": {},
   "cell_type": "code",
   "outputs": [],
   "execution_count": null,
   "source": [
    "\n",
    "model = tf.keras.models.Sequential([\n",
    "        tf.keras.layers.Conv2D(32, (3, 3), activation='relu', input_shape=(150, 150, 3)),\n",
    "        tf.keras.layers.MaxPooling2D(2, 2),\n",
    "        tf.keras.layers.Conv2D(32, (3, 3), activation='relu'),\n",
    "        tf.keras.layers.MaxPooling2D(2, 2),\n",
    "        tf.keras.layers.Conv2D(64, (3, 3), activation='relu'),\n",
    "        tf.keras.layers.MaxPooling2D(2, 2),    \n",
    "        tf.keras.layers.Conv2D(64, (3, 3), activation='relu'),\n",
    "        tf.keras.layers.MaxPooling2D(2, 2),\n",
    "        tf.keras.layers.Conv2D(64, (3, 3), activation='relu'),\n",
    "        tf.keras.layers.MaxPooling2D(2, 2),\n",
    "        tf.keras.layers.Dropout(0.1),\n",
    "        tf.keras.layers.Flatten(),\n",
    "        tf.keras.layers.Dense(128, activation='relu'),\n",
    "        tf.keras.layers.Dense(1, activation='sigmoid')\n",
    "    ])\n",
    "    # Compile the model\n",
    "    model.compile(optimizer=tf.keras.optimizers.legacy.Adam(learning_rate=0.000185),\n",
    "                  loss='binary_crossentropy',\n",
    "                  metrics=['accuracy'])\n"
   ],
   "id": "1094e14ac182e219"
  },
  {
   "metadata": {
    "ExecuteTime": {
     "end_time": "2024-05-02T01:30:10.120099Z",
     "start_time": "2024-05-02T01:30:07.030266Z"
    }
   },
   "cell_type": "code",
   "source": [
    "\n",
    "from tensorflow.keras.backend import clear_session\n",
    "clear_session()\n"
   ],
   "id": "9909b771922b4f51",
   "outputs": [],
   "execution_count": 1
  }
 ],
 "metadata": {
  "kernelspec": {
   "display_name": "Python 3",
   "language": "python",
   "name": "python3"
  },
  "language_info": {
   "codemirror_mode": {
    "name": "ipython",
    "version": 2
   },
   "file_extension": ".py",
   "mimetype": "text/x-python",
   "name": "python",
   "nbconvert_exporter": "python",
   "pygments_lexer": "ipython2",
   "version": "2.7.6"
  }
 },
 "nbformat": 4,
 "nbformat_minor": 5
}
